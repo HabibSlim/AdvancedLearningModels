{
  "nbformat": 4,
  "nbformat_minor": 0,
  "metadata": {
    "language_info": {
      "codemirror_mode": {
        "name": "ipython",
        "version": 3
      },
      "file_extension": ".py",
      "mimetype": "text/x-python",
      "name": "python",
      "nbconvert_exporter": "python",
      "pygments_lexer": "ipython3",
      "version": "3.7.3-final"
    },
    "orig_nbformat": 2,
    "kernelspec": {
      "name": "python3",
      "display_name": "Python 3.7.3 64-bit",
      "metadata": {
        "interpreter": {
          "hash": "e774977668b7c0ae8309835a5187aa7fbf7669e7d0bb59755bc63e573643edcd"
        }
      }
    },
    "colab": {
      "name": "submission_2.ipynb",
      "private_outputs": true,
      "provenance": [],
      "collapsed_sections": [],
      "toc_visible": true
    }
  },
  "cells": [
    {
      "cell_type": "markdown",
      "metadata": {
        "id": "KNfeLkydtrxL"
      },
      "source": [
        "### Unzipping Gram matrices"
      ]
    },
    {
      "cell_type": "code",
      "metadata": {
        "id": "qsJnAuchwX-E"
      },
      "source": [
        "%%capture\n",
        "!unzip ./data/gram_mats/dset0.zip -d ./dset0/\n",
        "!unzip ./data/gram_mats/dset1.zip -d ./dset1/\n",
        "!unzip ./data/gram_mats/dset2.zip -d ./dset2/"
      ],
      "execution_count": null,
      "outputs": []
    },
    {
      "cell_type": "markdown",
      "metadata": {
        "id": "jHc15_hgtrB2"
      },
      "source": [
        "### Using KRRBags for each dataset"
      ]
    },
    {
      "cell_type": "code",
      "metadata": {
        "id": "WOTZpWArtrB_"
      },
      "source": [
        "import numpy as np\n",
        "import multiprocessing as mp\n",
        "\n",
        "from krr import KRRBag\n",
        "from utils import eval_acc\n",
        "from data import save_mat, load_mat, load_test, load_train"
      ],
      "execution_count": null,
      "outputs": []
    },
    {
      "cell_type": "markdown",
      "metadata": {
        "id": "Hp5DT_Tf-nFU"
      },
      "source": [
        "Loading gram matrices"
      ]
    },
    {
      "cell_type": "code",
      "metadata": {
        "id": "6OiHyoPK-oEh"
      },
      "source": [
        "N_MODELS = 7\n",
        "\n",
        "def load_gram_mats(dset):\n",
        "  gram_train, gram_test = [], []\n",
        "  for i in range(N_MODELS):\n",
        "    train_f = \"dset%d/dset%d_split_%d_Ktrain\" % (dset, dset, i)\n",
        "    test_f  = \"dset%d/dset%d_split_%d_Ktest\"  % (dset, dset, i)\n",
        "\n",
        "    gram_train += [load_mat(train_f)]\n",
        "    gram_test  += [load_mat(test_f)]\n",
        "\n",
        "  return gram_train, gram_test\n",
        "\n",
        "def reorder(l1, l2, p):\n",
        "  l1_p, l2_p = [], []\n",
        "  for i in p:\n",
        "    l1_p += [l1[i]]\n",
        "    l2_p += [l2[i]]\n",
        "\n",
        "  return l1_p, l2_p"
      ],
      "execution_count": null,
      "outputs": []
    },
    {
      "cell_type": "markdown",
      "metadata": {
        "id": "PAVYk4DBtrCB"
      },
      "source": [
        "Dataset 0"
      ]
    },
    {
      "cell_type": "code",
      "metadata": {
        "id": "65vvqIDdxeNW"
      },
      "source": [
        "gram_train, gram_test = load_gram_mats(0)\n",
        "gram_train, gram_test = reorder(gram_train, gram_test, [3,5,6,4,0,1,2])\n",
        "_, _, Y0_train, _ = load_train(0, 1.)"
      ],
      "execution_count": null,
      "outputs": []
    },
    {
      "cell_type": "code",
      "metadata": {
        "id": "rbXIUZGeBYXK"
      },
      "source": [
        "# Fitting\n",
        "krr_bag = KRRBag(n_models=N_MODELS, ratio=0.95,\n",
        "                 gram_train=gram_train, gram_test=gram_test,\n",
        "                 l=0.11)\n",
        "krr_bag.fit_K(Y0_train, verbose=True)\n",
        "\n",
        "# Predicting\n",
        "pred_0, preds = krr_bag.predict_K(verbose=True)"
      ],
      "execution_count": null,
      "outputs": []
    },
    {
      "cell_type": "markdown",
      "metadata": {
        "id": "yBMymtlsLVJp"
      },
      "source": [
        "Dataset 1"
      ]
    },
    {
      "cell_type": "code",
      "metadata": {
        "id": "5LYHelALLVJq"
      },
      "source": [
        "gram_train, gram_test = load_gram_mats(1)\n",
        "gram_train, gram_test = reorder(gram_train, gram_test, [6,3,4,2,5,0,1])\n",
        "_, _, Y1_train, _ = load_train(1, 1.)"
      ],
      "execution_count": null,
      "outputs": []
    },
    {
      "cell_type": "code",
      "metadata": {
        "id": "Wvl3V99hLVJr"
      },
      "source": [
        "# Fitting\n",
        "krr_bag = KRRBag(n_models=N_MODELS, ratio=0.95,\n",
        "                 gram_train=gram_train, gram_test=gram_test,\n",
        "                 l=0.0365)\n",
        "krr_bag.fit_K(Y1_train, verbose=True)\n",
        "\n",
        "# Predicting\n",
        "pred_1, preds = krr_bag.predict_K(verbose=True)"
      ],
      "execution_count": null,
      "outputs": []
    },
    {
      "cell_type": "markdown",
      "metadata": {
        "id": "0gimayxgNzVx"
      },
      "source": [
        "Dataset 2"
      ]
    },
    {
      "cell_type": "code",
      "metadata": {
        "id": "VQy7PFGhNzV3"
      },
      "source": [
        "gram_train, gram_test = load_gram_mats(2)\n",
        "gram_train, gram_test = reorder(gram_train, gram_test, [0,1,2,3,4,5,6])\n",
        "_, _, Y2_train, _ = load_train(2, 1.)"
      ],
      "execution_count": null,
      "outputs": []
    },
    {
      "cell_type": "code",
      "metadata": {
        "id": "IEB3TI1UNzV4"
      },
      "source": [
        "# Fitting\n",
        "krr_bag = KRRBag(n_models=N_MODELS, ratio=0.95,\n",
        "                 gram_train=gram_train, gram_test=gram_test,\n",
        "                 l=0.0256)\n",
        "krr_bag.fit_K(Y2_train, verbose=True)\n",
        "\n",
        "# Predicting\n",
        "pred_2, preds = krr_bag.predict_K(verbose=True)"
      ],
      "execution_count": null,
      "outputs": []
    },
    {
      "cell_type": "markdown",
      "metadata": {
        "id": "WSBwFQgk9Zfx"
      },
      "source": [
        "Building final submission"
      ]
    },
    {
      "cell_type": "code",
      "metadata": {
        "id": "IrxJdl5Q9t26"
      },
      "source": [
        "import pandas as pd\n",
        "\n",
        "all_preds = np.r_[pred_0, pred_1, pred_2]\n",
        "\n",
        "df = pd.DataFrame(data=np.c_[np.arange(len(all_preds)), all_preds], columns=['Id','Bound'])\n",
        "df.to_csv('Yte.csv', encoding='utf-8', index=False)"
      ],
      "execution_count": null,
      "outputs": []
    }
  ]
}