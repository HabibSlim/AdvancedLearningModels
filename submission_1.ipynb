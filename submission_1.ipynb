{
  "nbformat": 4,
  "nbformat_minor": 0,
  "metadata": {
    "language_info": {
      "codemirror_mode": {
        "name": "ipython",
        "version": 3
      },
      "file_extension": ".py",
      "mimetype": "text/x-python",
      "name": "python",
      "nbconvert_exporter": "python",
      "pygments_lexer": "ipython3",
      "version": "3.7.3-final"
    },
    "orig_nbformat": 2,
    "kernelspec": {
      "name": "python3",
      "display_name": "Python 3.7.3 64-bit",
      "metadata": {
        "interpreter": {
          "hash": "e774977668b7c0ae8309835a5187aa7fbf7669e7d0bb59755bc63e573643edcd"
        }
      }
    },
    "colab": {
      "name": "submission_1.ipynb",
      "private_outputs": true,
      "provenance": [],
      "collapsed_sections": [],
      "toc_visible": true
    }
  },
  "cells": [
    {
      "cell_type": "markdown",
      "metadata": {
        "id": "jHc15_hgtrB2"
      },
      "source": [
        "### Using KRR models for each dataset"
      ]
    },
    {
      "cell_type": "code",
      "metadata": {
        "id": "WOTZpWArtrB_"
      },
      "source": [
        "import numpy as np\n",
        "import multiprocessing as mp\n",
        "\n",
        "from krr import KRR\n",
        "from utils import eval_acc\n",
        "from data import save_mat, load_mat, load_test, load_train"
      ],
      "execution_count": null,
      "outputs": []
    },
    {
      "cell_type": "markdown",
      "metadata": {
        "id": "PAVYk4DBtrCB"
      },
      "source": [
        "Dataset 0"
      ]
    },
    {
      "cell_type": "code",
      "metadata": {
        "id": "rbXIUZGeBYXK"
      },
      "source": [
        "from utils import compute_gram\n",
        "from sp_kernel import sp_kernel_comb\n",
        "\n",
        "\n",
        "# Selected spectrum kernel combination\n",
        "K_LIST_0 = [3, 5, 6, 9, 10]\n",
        "\n",
        "# Loading data\n",
        "X0_train, _, Y0_train, _ = load_train(dset=0, ratio=1.)\n",
        "X0_test = load_test(0)\n",
        "\n",
        "def sp_kernel_0(s1, s2):\n",
        "  return sp_kernel_comb(s1, s2, k_list=K_LIST_0)\n",
        "\n",
        "# Defining the kernel function\n",
        "dict_d0 = {}\n",
        "def gram_d0(X, Xt=None):\n",
        "  key = \"%s|%s\"%(id(X),id(Xt))\n",
        "  if key in dict_d0:\n",
        "    return dict_d0[key]\n",
        "  else:\n",
        "    dict_d0[key] = compute_gram(X=X, Xt=Xt, kernel_fun=sp_kernel_0)\n",
        "    return dict_d0[key]"
      ],
      "execution_count": null,
      "outputs": []
    },
    {
      "cell_type": "code",
      "execution_count": null,
      "metadata": {},
      "outputs": [],
      "source": [
        "# Fitting\n",
        "krr_0 = KRR(gram_d0)\n",
        "krr_0.fit(X0_train, Y0_train, l=0.11)\n",
        "\n",
        "# Predicting\n",
        "pred_0 = krr_0.predict(X0_test)"
      ]
    },
    {
      "cell_type": "markdown",
      "metadata": {
        "id": "yBMymtlsLVJp"
      },
      "source": [
        "Dataset 1"
      ]
    },
    {
      "cell_type": "code",
      "metadata": {
        "id": "Wvl3V99hLVJr"
      },
      "source": [
        "# Selected spectrum kernel combination\n",
        "K_LIST_1 = [6, 10, 13]\n",
        "\n",
        "# Loading data\n",
        "X1_train, _, Y1_train, _ = load_train(dset=1, ratio=1.)\n",
        "X1_test = load_test(1)\n",
        "\n",
        "\n",
        "# Computing Gram matrices\n",
        "dict_d1 = {}\n",
        "def gram_d1(X, Xt=None):\n",
        "  if Xt is None: Xt = X\n",
        "\n",
        "  key = \"%s|%s\"%(id(X),id(Xt))\n",
        "  if key in dict_d1:\n",
        "    return dict_d1[key]\n",
        "  else:\n",
        "    dict_d1[key] = compute_gram(X=X, Xt=Xt, k_list=K_LIST_1)\n",
        "    return dict_d1[key]\n",
        "\n",
        "# Fitting\n",
        "krr_1 = KRR(gram_d1)\n",
        "krr_1.fit(X1_train, Y1_train, l=0.0365)\n",
        "\n",
        "# Predicting\n",
        "pred_1 = krr_1.predict(X1_test)"
      ],
      "execution_count": null,
      "outputs": []
    },
    {
      "cell_type": "markdown",
      "metadata": {
        "id": "0gimayxgNzVx"
      },
      "source": [
        "Dataset 2"
      ]
    },
    {
      "cell_type": "code",
      "metadata": {
        "id": "IEB3TI1UNzV4"
      },
      "source": [
        "# Selected spectrum kernel combination\n",
        "K_LIST_2 = [2, 6, 15, 17]\n",
        "\n",
        "# Loading data\n",
        "X2_train, _, Y2_train, _ = load_train(dset=2, ratio=1.)\n",
        "X2_test = load_test(2)\n",
        "\n",
        "\n",
        "# Computing Gram matrices\n",
        "dict_d2 = {}\n",
        "def gram_d2(X, Xt=None):\n",
        "  if Xt is None: Xt = X\n",
        "\n",
        "  key = \"%s|%s\"%(id(X),id(Xt))\n",
        "  if key in dict_d2:\n",
        "    return dict_d2[key]\n",
        "  else:\n",
        "    dict_d2[key] = compute_gram(X=X, Xt=Xt, k_list=K_LIST_2)\n",
        "    return dict_d2[key]\n",
        "\n",
        "# Fitting\n",
        "krr_2 = KRR(gram_d2)\n",
        "krr_2.fit(X2_train, Y2_train, l=0.0256)\n",
        "\n",
        "# Predicting\n",
        "pred_2 = krr_2.predict(X2_test)"
      ],
      "execution_count": null,
      "outputs": []
    },
    {
      "cell_type": "markdown",
      "metadata": {
        "id": "WSBwFQgk9Zfx"
      },
      "source": [
        "Building final submission"
      ]
    },
    {
      "cell_type": "code",
      "metadata": {
        "id": "IrxJdl5Q9t26"
      },
      "source": [
        "import pandas as pd\n",
        "\n",
        "all_preds = np.r_[pred_0, pred_1, pred_2]\n",
        "\n",
        "df = pd.DataFrame(data=np.c_[np.arange(len(all_preds)), all_preds], columns=['Id','Bound'])\n",
        "df.to_csv('Yte.csv', encoding='utf-8', index=False)"
      ],
      "execution_count": null,
      "outputs": []
    }
  ]
}